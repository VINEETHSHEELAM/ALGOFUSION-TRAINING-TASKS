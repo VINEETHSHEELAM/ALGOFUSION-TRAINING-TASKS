{
 "cells": [
  {
   "cell_type": "code",
   "execution_count": 1,
   "id": "ffc3f338",
   "metadata": {},
   "outputs": [
    {
     "name": "stdout",
     "output_type": "stream",
     "text": [
      "[1, 9, 25, 49, 81, 121, 169, 225, 289, 361]\n"
     ]
    }
   ],
   "source": [
    "list1=[]\n",
    "for i in range(20):\n",
    "    if(i%2==0):\n",
    "        continue\n",
    "    x=i**2\n",
    "    list1.append(x)\n",
    "print(list1)"
   ]
  },
  {
   "cell_type": "code",
   "execution_count": 2,
   "id": "050446bf",
   "metadata": {},
   "outputs": [
    {
     "data": {
      "text/plain": [
       "[1, 9, 25, 49, 81, 121, 169, 225, 289, 361]"
      ]
     },
     "execution_count": 2,
     "metadata": {},
     "output_type": "execute_result"
    }
   ],
   "source": [
    "[y**2 for y in range(20) if y%2==1]"
   ]
  },
  {
   "cell_type": "code",
   "execution_count": 5,
   "id": "f3c93a7f",
   "metadata": {},
   "outputs": [
    {
     "name": "stdout",
     "output_type": "stream",
     "text": [
      "9\n"
     ]
    }
   ],
   "source": [
    "x = lambda y:3**y\n",
    "print(x(2))"
   ]
  },
  {
   "cell_type": "code",
   "execution_count": 6,
   "id": "b001c933",
   "metadata": {},
   "outputs": [
    {
     "data": {
      "text/plain": [
       "24"
      ]
     },
     "execution_count": 6,
     "metadata": {},
     "output_type": "execute_result"
    }
   ],
   "source": [
    "x = lambda p,q,r:p*q*r\n",
    "x(2,3,4)"
   ]
  },
  {
   "cell_type": "code",
   "execution_count": 17,
   "id": "6a508fc2",
   "metadata": {},
   "outputs": [
    {
     "name": "stdout",
     "output_type": "stream",
     "text": [
      "[1, 4, 9, 16, 25, 36]\n"
     ]
    }
   ],
   "source": [
    "num = [1,2,3,4,5,6]\n",
    "squares =list(map(lambda x :x**2,num))\n",
    "print(squares)"
   ]
  },
  {
   "cell_type": "code",
   "execution_count": 18,
   "id": "bd84dd78",
   "metadata": {},
   "outputs": [
    {
     "data": {
      "text/plain": [
       "[4, 16, 36]"
      ]
     },
     "execution_count": 18,
     "metadata": {},
     "output_type": "execute_result"
    }
   ],
   "source": [
    "squares = list(map(lambda x :x**2,filter(lambda x : x%2==0,num)))\n",
    "squares"
   ]
  },
  {
   "cell_type": "code",
   "execution_count": 19,
   "id": "e1f5640c",
   "metadata": {},
   "outputs": [
    {
     "data": {
      "text/plain": [
       "56"
      ]
     },
     "execution_count": 19,
     "metadata": {},
     "output_type": "execute_result"
    }
   ],
   "source": [
    "from functools import reduce\n",
    "sums = reduce(lambda x,y:x+y,squares)\n",
    "sums"
   ]
  },
  {
   "cell_type": "code",
   "execution_count": 21,
   "id": "89ff7d69",
   "metadata": {},
   "outputs": [
    {
     "name": "stdout",
     "output_type": "stream",
     "text": [
      "{'A': 1, 'B': 2, 'C': 3, 'D': 4, 'E': 5}\n"
     ]
    }
   ],
   "source": [
    "a=['A','B','C','D','E']\n",
    "b=[1,2,3,4,5]\n",
    "print(dict(zip(a,b)))"
   ]
  },
  {
   "cell_type": "code",
   "execution_count": 22,
   "id": "b818c1ca",
   "metadata": {},
   "outputs": [],
   "source": [
    "import pandas as pd"
   ]
  },
  {
   "cell_type": "code",
   "execution_count": 30,
   "id": "e7cace7d",
   "metadata": {},
   "outputs": [
    {
     "data": {
      "text/html": [
       "<div>\n",
       "<style scoped>\n",
       "    .dataframe tbody tr th:only-of-type {\n",
       "        vertical-align: middle;\n",
       "    }\n",
       "\n",
       "    .dataframe tbody tr th {\n",
       "        vertical-align: top;\n",
       "    }\n",
       "\n",
       "    .dataframe thead th {\n",
       "        text-align: right;\n",
       "    }\n",
       "</style>\n",
       "<table border=\"1\" class=\"dataframe\">\n",
       "  <thead>\n",
       "    <tr style=\"text-align: right;\">\n",
       "      <th></th>\n",
       "      <th>Subject_name</th>\n",
       "      <th>Subdivision</th>\n",
       "      <th>Year</th>\n",
       "      <th>Semester</th>\n",
       "      <th>Marks_scored</th>\n",
       "      <th>Max_marks</th>\n",
       "      <th>Grade</th>\n",
       "    </tr>\n",
       "  </thead>\n",
       "  <tbody>\n",
       "    <tr>\n",
       "      <th>0</th>\n",
       "      <td>Mathematics</td>\n",
       "      <td>A</td>\n",
       "      <td>2020</td>\n",
       "      <td>1</td>\n",
       "      <td>80</td>\n",
       "      <td>100</td>\n",
       "      <td>A</td>\n",
       "    </tr>\n",
       "    <tr>\n",
       "      <th>1</th>\n",
       "      <td>Physics</td>\n",
       "      <td>B</td>\n",
       "      <td>2020</td>\n",
       "      <td>2</td>\n",
       "      <td>75</td>\n",
       "      <td>100</td>\n",
       "      <td>B</td>\n",
       "    </tr>\n",
       "    <tr>\n",
       "      <th>2</th>\n",
       "      <td>Drawing</td>\n",
       "      <td>A</td>\n",
       "      <td>2021</td>\n",
       "      <td>1</td>\n",
       "      <td>90</td>\n",
       "      <td>100</td>\n",
       "      <td>A+</td>\n",
       "    </tr>\n",
       "    <tr>\n",
       "      <th>3</th>\n",
       "      <td>English</td>\n",
       "      <td>B</td>\n",
       "      <td>2021</td>\n",
       "      <td>2</td>\n",
       "      <td>85</td>\n",
       "      <td>100</td>\n",
       "      <td>B</td>\n",
       "    </tr>\n",
       "    <tr>\n",
       "      <th>4</th>\n",
       "      <td>Electronics</td>\n",
       "      <td>A</td>\n",
       "      <td>2022</td>\n",
       "      <td>1</td>\n",
       "      <td>95</td>\n",
       "      <td>100</td>\n",
       "      <td>A+</td>\n",
       "    </tr>\n",
       "  </tbody>\n",
       "</table>\n",
       "</div>"
      ],
      "text/plain": [
       "  Subject_name Subdivision  Year  Semester  Marks_scored  Max_marks Grade\n",
       "0  Mathematics           A  2020         1            80        100     A\n",
       "1      Physics           B  2020         2            75        100     B\n",
       "2      Drawing           A  2021         1            90        100    A+\n",
       "3      English           B  2021         2            85        100     B\n",
       "4  Electronics           A  2022         1            95        100    A+"
      ]
     },
     "execution_count": 30,
     "metadata": {},
     "output_type": "execute_result"
    }
   ],
   "source": [
    "import pandas as pd\n",
    "data = {\n",
    "    'Subject_name': ['Mathematics', 'Physics', 'Drawing', 'English', 'Electronics'],\n",
    "    'Subdivision': ['A', 'B', 'A', 'B', 'A'],\n",
    "    'Year': [2020, 2020, 2021, 2021, 2022],\n",
    "    'Semester': [1, 2, 1, 2, 1],\n",
    "    'Marks_scored': [80, 75, 90, 85, 95],\n",
    "    'Max_marks': [100, 100, 100, 100, 100],\n",
    "    'Grade': ['A', 'B', 'A+', 'B', 'A+']\n",
    "}\n",
    "\n",
    "df = pd.DataFrame(data)\n",
    "df\n"
   ]
  },
  {
   "cell_type": "code",
   "execution_count": 31,
   "id": "77246e1c",
   "metadata": {},
   "outputs": [
    {
     "name": "stdout",
     "output_type": "stream",
     "text": [
      "\n",
      "Yearwise Average Score:\n",
      "Year\n",
      "2020    77.5\n",
      "2021    87.5\n",
      "2022    95.0\n",
      "Name: Marks_scored, dtype: float64\n",
      "\n",
      "Semesterwise Average Score:\n",
      "Semester\n",
      "1    88.333333\n",
      "2    80.000000\n",
      "Name: Marks_scored, dtype: float64\n",
      "\n",
      "Subdivision wise Average Score:\n",
      "Subdivision\n",
      "A    88.333333\n",
      "B    80.000000\n",
      "Name: Marks_scored, dtype: float64\n"
     ]
    }
   ],
   "source": [
    "year_avg_score = df.groupby('Year')['Marks_scored'].mean()\n",
    "semester_avg_score = df.groupby('Semester')['Marks_scored'].mean()\n",
    "subdivision_avg_score = df.groupby('Subdivision')['Marks_scored'].mean()\n",
    "print(\"\\nYearwise Average Score:\")\n",
    "print(year_avg_score)\n",
    "print(\"\\nSemesterwise Average Score:\")\n",
    "print(semester_avg_score)\n",
    "print(\"\\nSubdivision wise Average Score:\")\n",
    "print(subdivision_avg_score)\n"
   ]
  },
  {
   "cell_type": "code",
   "execution_count": 32,
   "id": "948cbdce",
   "metadata": {},
   "outputs": [
    {
     "name": "stdout",
     "output_type": "stream",
     "text": [
      "\n",
      "Updated DataFrame:\n",
      "  Subject_name Subdivision  Year  Semester  Marks_scored  Max_marks Grade  \\\n",
      "0  Mathematics           A  2020         1            80        100     A   \n",
      "1      Physics           B  2020         2            75        100     B   \n",
      "2      Drawing           A  2021         1            90        100    A+   \n",
      "3      English           B  2021         2            85        100     B   \n",
      "4  Electronics           A  2022         1            95        100    A+   \n",
      "\n",
      "  Mark_category  \n",
      "0     Very Good  \n",
      "1          Good  \n",
      "2     Excellent  \n",
      "3     Very Good  \n",
      "4     Excellent  \n"
     ]
    }
   ],
   "source": [
    "\n",
    "def categorize_marks(marks):\n",
    "    if marks >= 90:\n",
    "        return 'Excellent'\n",
    "    elif marks >= 80:\n",
    "        return 'Very Good'\n",
    "    elif marks >= 70:\n",
    "        return 'Good'\n",
    "    else:\n",
    "        return 'Average'\n",
    "df['Mark_category'] = df['Marks_scored'].apply(categorize_marks)\n",
    "print(\"\\nUpdated DataFrame:\")\n",
    "print(df)\n"
   ]
  },
  {
   "cell_type": "code",
   "execution_count": 33,
   "id": "97f763ce",
   "metadata": {},
   "outputs": [
    {
     "name": "stdout",
     "output_type": "stream",
     "text": [
      "\n",
      "Descriptive Statistics - Semester-wise Marks:\n",
      "          count       mean       std   min   25%   50%   75%   max\n",
      "Semester                                                          \n",
      "1           3.0  88.333333  7.637626  80.0  85.0  90.0  92.5  95.0\n",
      "2           2.0  80.000000  7.071068  75.0  77.5  80.0  82.5  85.0\n"
     ]
    }
   ],
   "source": [
    "semester_statistics = df.groupby('Semester')['Marks_scored'].describe()\n",
    "print(\"\\nDescriptive Statistics - Semester-wise Marks:\")\n",
    "print(semester_statistics)"
   ]
  },
  {
   "cell_type": "code",
   "execution_count": 38,
   "id": "ddefac1b",
   "metadata": {},
   "outputs": [
    {
     "data": {
      "image/png": "[encoded data removed]",
      "text/plain": [
       "<Figure size 640x480 with 1 Axes>"
      ]
     },
     "metadata": {},
     "output_type": "display_data"
    }
   ],
   "source": [
    "import matplotlib.pyplot as plt\n",
    "semester_avg_marks = df.groupby('Semester')['Marks_scored'].mean()\n",
    "plt.plot(semester_avg_marks.index, semester_avg_marks.values, marker='o')\n",
    "plt.xlabel('Semester')\n",
    "plt.ylabel('Average Marks')\n",
    "plt.title('Semester-wise Average Marks')\n",
    "plt.show()"
   ]
  },
  {
   "cell_type": "code",
   "execution_count": 43,
   "id": "335631ff",
   "metadata": {},
   "outputs": [
    {
     "data": {
      "image/png": "[encoded data removed]",
      "text/plain": [
       "<Figure size 640x480 with 1 Axes>"
      ]
     },
     "metadata": {},
     "output_type": "display_data"
    }
   ],
   "source": [
    "plt.bar(semester_avg_marks.index, semester_avg_marks.values)\n",
    "plt.xlabel('Semester')\n",
    "plt.ylabel('Average Marks')\n",
    "plt.title('Semester-wise Average Marks')\n",
    "plt.show()"
   ]
  },
  {
   "cell_type": "code",
   "execution_count": null,
   "id": "8998db9b",
   "metadata": {},
   "outputs": [],
   "source": []
  }
 ],
 "metadata": {
  "kernelspec": {
   "display_name": "Python 3 (ipykernel)",
   "language": "python",
   "name": "python3"
  },
  "language_info": {
   "codemirror_mode": {
    "name": "ipython",
    "version": 3
   },
   "file_extension": ".py",
   "mimetype": "text/x-python",
   "name": "python",
   "nbconvert_exporter": "python",
   "pygments_lexer": "ipython3",
   "version": "3.9.13"
  }
 },
 "nbformat": 4,
 "nbformat_minor": 5
}
